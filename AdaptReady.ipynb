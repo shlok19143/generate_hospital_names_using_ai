{
 "cells": [
  {
   "cell_type": "code",
   "execution_count": 1,
   "metadata": {},
   "outputs": [
    {
     "name": "stderr",
     "output_type": "stream",
     "text": [
      "Using TensorFlow backend.\n"
     ]
    }
   ],
   "source": [
    "# Prerequisite :\n",
    "# 1.) Create AdaptReady Folder under C: drive.\n",
    "# 2.) Paste hospital_names.txt file under C:\\AdaptReady\\\n",
    "# 3.) Paste AdaptReady.pynb under C:\\AdaptReady\\ and run the code in jupyter notebook.\n",
    "# Note : I have also attached the screenshot for your reference.\n",
    "\n",
    "# Import all the necessary libraries.\n",
    "\n",
    "import numpy as np\n",
    "import pandas as pd\n",
    "import sklearn\n",
    "from keras.models import Sequential\n",
    "from keras.layers import LSTM, Dense\n",
    "from keras.callbacks import LambdaCallback\n",
    "from keras.models import load_model\n",
    "import requests"
   ]
  },
  {
   "cell_type": "code",
   "execution_count": 2,
   "metadata": {},
   "outputs": [],
   "source": [
    "# Open and read the text file i.e. hospital_names.txt.\n",
    "# Copy the contents of text file in \"text\" variable and then close the text file.\n",
    "\n",
    "with open(\"C:\\\\AdaptReady\\\\hospital_names.txt\", ) as text_file:\n",
    "    text = text_file.read()"
   ]
  },
  {
   "cell_type": "code",
   "execution_count": 3,
   "metadata": {},
   "outputs": [],
   "source": [
    "# Split the text file by \"\\n\" to create the list of all the hospital names.\n",
    "\n",
    "hospital_names = text.split(\"\\n\")"
   ]
  },
  {
   "cell_type": "code",
   "execution_count": 4,
   "metadata": {},
   "outputs": [],
   "source": [
    "# Remove all the punctuations from the hospital names.\n",
    "# Create the list of all the hospital names without punctuations.\n",
    "# list of hospital_names_without_punctuations is in lowercase format.\n",
    "\n",
    "hospital_names_without_punctuations = []\n",
    "\n",
    "for i in range(0, len(hospital_names)):\n",
    "    for char in hospital_names[i]:\n",
    "        if char in \"\"\"\"!@#$%^&*()_+-={}[]|\"'\\:;<>,.?/-+`â~€“\"\"\":\n",
    "            hospital_names[i] = hospital_names[i].replace(char, \"\") \n",
    "    hospital_names_without_punctuations.append(hospital_names[i].lower())"
   ]
  },
  {
   "cell_type": "code",
   "execution_count": 5,
   "metadata": {},
   "outputs": [],
   "source": [
    "# Remove repeated hospital names and add period after each hospital name.\n",
    "\n",
    "hospital_names_without_punctuations = list(map(lambda s: s + '.', hospital_names_without_punctuations))"
   ]
  },
  {
   "cell_type": "code",
   "execution_count": 6,
   "metadata": {},
   "outputs": [],
   "source": [
    "# Map all the lowercase alphabets with unique integer and later mapped with their ASCII code.\n",
    "# e.g. : a - z is mapped with 1 - 26 uniquely.\n",
    "# space is mapped with 0\n",
    "# period is mapped with 27\n",
    "# Create two numpy array of zeros i.e. X and Y  of mentioned length as given parameters.\n",
    "# Replace the zero under X and Y by their corresponding value of alphabet used in hospital_names_without_punctuations.\n",
    "\n",
    "char_to_index = dict((chr(i+96), i) for i in range(1,27))\n",
    "char_to_index[' '] = 0\n",
    "char_to_index['.'] = 27\n",
    "\n",
    "index_to_char = dict( (i, chr(i+96)) for i in range(1,27))\n",
    "index_to_char[0] = ' '\n",
    "index_to_char[27] = '.'\n",
    "\n",
    "max_char = len(max(hospital_names_without_punctuations, key=len))\n",
    "m = len(hospital_names_without_punctuations)\n",
    "char_dim = len(char_to_index)\n",
    "\n",
    "X = np.zeros((m, max_char, char_dim))\n",
    "Y = np.zeros((m, max_char, char_dim))\n",
    "\n",
    "for i in range(m):\n",
    "    name = list(hospital_names_without_punctuations[i])\n",
    "    for j in range(len(name)):\n",
    "        X[i, j, char_to_index[name[j]]] = 1\n",
    "        if j < len(name)-1:\n",
    "            Y[i, j, char_to_index[name[j+1]]] = 1"
   ]
  },
  {
   "cell_type": "code",
   "execution_count": 7,
   "metadata": {},
   "outputs": [
    {
     "name": "stdout",
     "output_type": "stream",
     "text": [
      "WARNING:tensorflow:From C:\\Users\\a9dl8zz\\AppData\\Local\\Continuum\\miniconda3\\envs\\dataScience\\lib\\site-packages\\tensorflow\\python\\framework\\op_def_library.py:263: colocate_with (from tensorflow.python.framework.ops) is deprecated and will be removed in a future version.\n",
      "Instructions for updating:\n",
      "Colocations handled automatically by placer.\n"
     ]
    }
   ],
   "source": [
    "# Created a sequential model using LSTM network.\n",
    "\n",
    "model = Sequential()\n",
    "model.add(LSTM(128, input_shape=(max_char, char_dim), return_sequences=True))\n",
    "model.add(LSTM(128, input_shape=(max_char, char_dim), return_sequences=True))\n",
    "model.add(LSTM(128, input_shape=(max_char, char_dim), return_sequences=True))\n",
    "model.add(Dense(char_dim, activation='softmax'))\n",
    "\n",
    "model.compile(loss='categorical_crossentropy', optimizer='adam')"
   ]
  },
  {
   "cell_type": "code",
   "execution_count": 8,
   "metadata": {},
   "outputs": [],
   "source": [
    "# number_of_iterations_run(epoch, _) is a method through which we came to know how many iterations ran till yet.\n",
    "\n",
    "def number_of_iterations_run(epoch, _):\n",
    " \n",
    "    if epoch % 100 == 0:\n",
    "        \n",
    "        print('Number of iterations completed : %d' % epoch)\n",
    "      \n",
    "name_generator = LambdaCallback(on_epoch_end = number_of_iterations_run)"
   ]
  },
  {
   "cell_type": "code",
   "execution_count": 9,
   "metadata": {},
   "outputs": [
    {
     "name": "stdout",
     "output_type": "stream",
     "text": [
      "WARNING:tensorflow:From C:\\Users\\a9dl8zz\\AppData\\Local\\Continuum\\miniconda3\\envs\\dataScience\\lib\\site-packages\\tensorflow\\python\\ops\\math_ops.py:3066: to_int32 (from tensorflow.python.ops.math_ops) is deprecated and will be removed in a future version.\n",
      "Instructions for updating:\n",
      "Use tf.cast instead.\n",
      "WARNING:tensorflow:From C:\\Users\\a9dl8zz\\AppData\\Local\\Continuum\\miniconda3\\envs\\dataScience\\lib\\site-packages\\tensorflow\\python\\ops\\math_grad.py:102: div (from tensorflow.python.ops.math_ops) is deprecated and will be removed in a future version.\n",
      "Instructions for updating:\n",
      "Deprecated in favor of operator or tf.math.divide.\n",
      "Number of iterations completed : 0\n",
      "Number of iterations completed : 100\n",
      "Number of iterations completed : 200\n",
      "Number of iterations completed : 300\n",
      "Number of iterations completed : 400\n",
      "Number of iterations completed : 500\n",
      "Number of iterations completed : 600\n",
      "Number of iterations completed : 700\n",
      "Number of iterations completed : 800\n",
      "Number of iterations completed : 900\n"
     ]
    },
    {
     "data": {
      "text/plain": [
       "<keras.callbacks.History at 0x2606766af08>"
      ]
     },
     "execution_count": 9,
     "metadata": {},
     "output_type": "execute_result"
    }
   ],
   "source": [
    "# Train the model.\n",
    "\n",
    "model.fit(X, Y, batch_size=64, epochs=1000, callbacks=[name_generator], verbose=0)"
   ]
  },
  {
   "cell_type": "code",
   "execution_count": 10,
   "metadata": {},
   "outputs": [],
   "source": [
    "# Save the model.\n",
    "\n",
    "model.save(\"C:\\\\AdaptReady\\\\trained_model.h5\")"
   ]
  },
  {
   "cell_type": "code",
   "execution_count": 11,
   "metadata": {},
   "outputs": [],
   "source": [
    "# Load the model.\n",
    "\n",
    "model = load_model(\"C:\\\\AdaptReady\\\\trained_model.h5\")"
   ]
  },
  {
   "cell_type": "code",
   "execution_count": 12,
   "metadata": {},
   "outputs": [],
   "source": [
    "# predict_hospital_name(model, seed) is a method i.e. used to predict the hopital names using our trained_model.h5 file.\n",
    "# We can give the \"seed\" as parameter i.e. characters or name from which we want to start our predicted hospital name.\n",
    "# predict_hospital_name(model, seed) method is a method used to predict the next characters one after the another after the given seed or any character till it reaches to period.\n",
    "\n",
    "def predict_hospital_name(model, seed):\n",
    "    name = [seed]\n",
    "    x = np.zeros((1, max_char, char_dim))\n",
    "    end = False\n",
    "    i = 0\n",
    "    \n",
    "    while end==False:\n",
    "        probs = list(model.predict(x)[0,i])\n",
    "        probs = probs / np.sum(probs)\n",
    "        index = np.random.choice(range(char_dim), p=probs)\n",
    "        if i == max_char-2:\n",
    "            character = '.'\n",
    "            end = True\n",
    "        else:\n",
    "            character = index_to_char[index]\n",
    "        name.append(character)\n",
    "        x[0, i+1, index] = 1\n",
    "        i += 1\n",
    "        if character == '.':\n",
    "            end = True\n",
    "    \n",
    "    print(''.join(name))"
   ]
  },
  {
   "cell_type": "markdown",
   "metadata": {},
   "source": [
    "# Predict Hospital Name Using predict_hospital_name(model, seed) method by giving seed parameter in the form of string."
   ]
  },
  {
   "cell_type": "code",
   "execution_count": 13,
   "metadata": {},
   "outputs": [
    {
     "name": "stdout",
     "output_type": "stream",
     "text": [
      "amityorthwest texas healthcare system.\n"
     ]
    }
   ],
   "source": [
    "predict_hospital_name(model, \"amity\")"
   ]
  },
  {
   "cell_type": "code",
   "execution_count": 14,
   "metadata": {},
   "outputs": [
    {
     "name": "stdout",
     "output_type": "stream",
     "text": [
      "janalines medical center.\n"
     ]
    }
   ],
   "source": [
    "predict_hospital_name(model, \"jan\")"
   ]
  },
  {
   "cell_type": "code",
   "execution_count": 15,
   "metadata": {},
   "outputs": [
    {
     "name": "stdout",
     "output_type": "stream",
     "text": [
      "takshilaorthwest community hospital.\n"
     ]
    }
   ],
   "source": [
    "predict_hospital_name(model, \"takshila\")"
   ]
  },
  {
   "cell_type": "code",
   "execution_count": 16,
   "metadata": {},
   "outputs": [
    {
     "name": "stdout",
     "output_type": "stream",
     "text": [
      "henano regional hospital.\n"
     ]
    }
   ],
   "source": [
    "predict_hospital_name(model, \"hen\")"
   ]
  },
  {
   "cell_type": "code",
   "execution_count": 17,
   "metadata": {},
   "outputs": [
    {
     "name": "stdout",
     "output_type": "stream",
     "text": [
      "guruidan goondothomaranth medical center.\n"
     ]
    }
   ],
   "source": [
    "predict_hospital_name(model, \"guru\")"
   ]
  },
  {
   "cell_type": "code",
   "execution_count": 19,
   "metadata": {},
   "outputs": [
    {
     "name": "stdout",
     "output_type": "stream",
     "text": [
      "orthwest medical center.\n"
     ]
    }
   ],
   "source": [
    "predict_hospital_name(model, \"\")"
   ]
  },
  {
   "cell_type": "code",
   "execution_count": 21,
   "metadata": {},
   "outputs": [
    {
     "name": "stdout",
     "output_type": "stream",
     "text": [
      "aano valley medical center west valley campus.\n"
     ]
    }
   ],
   "source": [
    "predict_hospital_name(model, \"a\")"
   ]
  },
  {
   "cell_type": "markdown",
   "metadata": {},
   "source": [
    "# THANK YOU"
   ]
  }
 ],
 "metadata": {
  "kernelspec": {
   "display_name": "Python 3",
   "language": "python",
   "name": "python3"
  },
  "language_info": {
   "codemirror_mode": {
    "name": "ipython",
    "version": 3
   },
   "file_extension": ".py",
   "mimetype": "text/x-python",
   "name": "python",
   "nbconvert_exporter": "python",
   "pygments_lexer": "ipython3",
   "version": "3.7.4"
  }
 },
 "nbformat": 4,
 "nbformat_minor": 2
}

